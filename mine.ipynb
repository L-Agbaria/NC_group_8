{
 "cells": [
  {
   "cell_type": "markdown",
   "id": "bf1be1b2f55b62c0",
   "metadata": {
    "jp-MarkdownHeadingCollapsed": true
   },
   "source": [
    "# Food Classification with CNN - Building a Restaurant Recommendation System\n",
    "\n",
    "This assignment focuses on developing a deep learning-based food classification system using Convolutional Neural Networks (CNNs). You will build a model that can recognize different food categories and use it to return the food preferences of a user.\n",
    "\n",
    "## Learning Objectives\n",
    "- Implement CNNs for image classification\n",
    "- Work with real-world food image datasets\n",
    "- Build a preference-detector system\n",
    "\n",
    "## Background: AI-Powered Food Preference Discovery\n",
    "\n",
    "The system's core idea is simple:\n",
    "\n",
    "1. Users upload 10 photos of dishes they enjoy\n",
    "2. Your CNN classifies these images into the 91 categories\n",
    "3. Based on these categories, the system returns the user's taste profile\n",
    "\n",
    "Your task is to develop the core computer vision component that will power this detection engine.\n",
    "\n",
    "You are given a training (\"train\" folder) and a test (\"test\" folder) dataset which have ~45k and ~22k samples respectively. For each one of the 91 classes there is a subdirectory containing the images of the respective class.\n",
    "\n",
    "## Assignment Requirements\n",
    "\n",
    "### Technical Requirements\n",
    "- Implement your own pytorch CNN architecture for food image classification\n",
    "- Use only the provided training dataset split for training\n",
    "- Train the network from scratch ; No pretrained weights can be used\n",
    "- Report test-accuracy after every epoch\n",
    "- Report all hyperparameters of final model\n",
    "- Use a fixed seed and do not use any CUDA-features that break reproducibility\n",
    "- Use Pytorch 2.6\n",
    "\n",
    "### Deliverables\n",
    "1. Jupyter Notebook with CNN implementation, training code etc.\n",
    "2. README file\n",
    "3. Report (max 3 pages)\n",
    "\n",
    "Submit your report, README and all code files as a single zip file named GROUP_[number]_NC2425_PA. The names and IDs of the group components must be mentioned in the README.\n",
    "Do not include the dataset in your submission.\n",
    "\n",
    "### Grading\n",
    "\n",
    "1. Correct CNN implementation, training runs on the uni DSLab computers according to the README.MD instructions without ANY exceptions on the DSLab machines: 3pt\n",
    "2. Perfect 1:1 reproducibility on DSLab machines: 1pt\n",
    "3. Very clear github-repo-style README.MD with instructions for running the code: 1pt\n",
    "4. Report: 1pt\n",
    "5. Model test performance on test-set: interpolated from 30-80% test-accuracy: 0-3pt\n",
    "6. Pick 10 random pictures of the test set to simulate a user uploading images and report which categories occur how often in these: 1pt\n",
    "7. Bonus point: use an LLM (API) to generate short description / profile of preferences of the simulated user\n",
    "\n",
    "**If there is anything unclear about this assignment please post your question in the Brightspace discussions forum or send an email**\n"
   ]
  },
  {
   "cell_type": "markdown",
   "id": "74c222e5c4ff1b26",
   "metadata": {},
   "source": [
    "# Loading the datasets\n",
    "The dataset is already split into a train and test set in the directories \"train\" and \"test\". "
   ]
  },
  {
   "cell_type": "code",
   "execution_count": 58,
   "id": "416f413f",
   "metadata": {},
   "outputs": [],
   "source": [
    "### HYPER-PARAMETER SET-UP ###\n",
    "\n",
    "# Randomization\n",
    "random_seed = 13\n",
    "\n",
    "# Model training\n",
    "workers = 8\n",
    "batch_size = 16\n",
    "num_epochs = 50\n",
    "lr = 0.01\n",
    "momentum = 0.75"
   ]
  },
  {
   "cell_type": "code",
   "execution_count": 59,
   "id": "a3e5a5a3",
   "metadata": {},
   "outputs": [],
   "source": [
    "### IMPORTS AND DEVICE ###\n",
    "\n",
    "import torch\n",
    "import numpy as np\n",
    "import torch.nn as nn\n",
    "from time import time\n",
    "import torch.nn.functional as F\n",
    "from torchvision import datasets\n",
    "from torch.autograd import Variable\n",
    "from datetime import datetime as dt\n",
    "from torchvision.transforms import v2\n",
    "from torch.utils.data import DataLoader\n",
    "import torch.optim.lr_scheduler as lr_scheduler\n",
    "\n",
    "\n",
    "# Use the GPU to speed up the training\n",
    "device = torch.device(\"cuda\" if torch.cuda.is_available() else \"cpu\")"
   ]
  },
  {
   "cell_type": "code",
   "execution_count": 60,
   "id": "aed23ce7b9cbfbf3",
   "metadata": {},
   "outputs": [],
   "source": [
    "### DATA LOADING ###\n",
    "\n",
    "# Allow repeatability\n",
    "np.random.seed(random_seed)\n",
    "torch.manual_seed(random_seed)\n",
    "torch.cuda.manual_seed_all(random_seed)\n",
    "\n",
    "# Define the transformer for the data\n",
    "train_transform = v2.Compose([\n",
    "    v2.Resize((256, 256)),\n",
    "    v2.RandomApply([v2.TrivialAugmentWide()], p=0.5),\n",
    "    v2.ToImage(), \n",
    "    v2.ToDtype(torch.float32, scale=True),\n",
    "    v2.Normalize(mean=[0.5, 0.5, 0.5], std=[0.5, 0.5, 0.5])\n",
    "])\n",
    "\n",
    "test_transform = v2.Compose([\n",
    "    v2.Resize((256, 256)),\n",
    "    v2.ToImage(), \n",
    "    v2.ToDtype(torch.float32, scale=True),\n",
    "    v2.Normalize(mean=[0.5, 0.5, 0.5], std=[0.5, 0.5, 0.5])\n",
    "])\n",
    "\n",
    "# Collect the data and set the augmentation\n",
    "train_dataset = datasets.ImageFolder(root='../train', transform=train_transform)\n",
    "train_dataset, val_dataset = torch.utils.data.random_split(train_dataset, [0.9, 0.1])\n",
    "test_dataset = datasets.ImageFolder(root='../test', transform=test_transform) \n",
    "\n",
    "# Prepare the data loaders with the batches, shuffling, and workers\n",
    "train_loader = DataLoader(train_dataset, batch_size, shuffle=True, num_workers=workers)\n",
    "test_loader = DataLoader(test_dataset, batch_size, shuffle=False, num_workers=workers)\n",
    "val_loader = DataLoader(val_dataset, batch_size, shuffle=False, num_workers=workers)"
   ]
  },
  {
   "cell_type": "code",
   "execution_count": 61,
   "id": "f0c424fb",
   "metadata": {
    "jupyter": {
     "source_hidden": true
    }
   },
   "outputs": [
    {
     "data": {
      "text/plain": [
       "(2573, 286, 1408)"
      ]
     },
     "execution_count": 61,
     "metadata": {},
     "output_type": "execute_result"
    }
   ],
   "source": [
    "len(train_loader), len(val_loader), len(test_loader)"
   ]
  },
  {
   "cell_type": "markdown",
   "id": "2f7bb30ae14ffa42",
   "metadata": {},
   "source": [
    "# CNN Implementation"
   ]
  },
  {
   "cell_type": "code",
   "execution_count": 74,
   "id": "fab0ebdf",
   "metadata": {},
   "outputs": [],
   "source": [
    "### ResNet ###\n",
    "\n",
    "class Block(nn.Module):\n",
    "    def __init__(self, in_channels, mid_channels, stride=1, expansion=4):\n",
    "        super().__init__()\n",
    "        self.layer = nn.Sequential(nn.Conv2d(in_channels, mid_channels, 1, 1, 0),\n",
    "                                   nn.SELU(),\n",
    "                                   nn.BatchNorm2d(mid_channels),\n",
    "                                   nn.Conv2d(mid_channels, mid_channels, 3, stride, 1),\n",
    "                                   nn.SELU(),\n",
    "                                   nn.Conv2d(mid_channels, mid_channels*expansion, 1, 1, 0),\n",
    "                                   nn.BatchNorm2d(mid_channels*expansion))\n",
    "        \n",
    "        self.proj = False\n",
    "        if in_channels != (mid_channels*expansion) or stride != 1:\n",
    "            self.proj = True\n",
    "            self.p_layer = nn.Conv2d(in_channels, mid_channels*4, 1, stride)\n",
    "\n",
    "    def forward(self, x):\n",
    "        res = x\n",
    "        out = self.layer(x)\n",
    "        if self.proj:\n",
    "            res = self.p_layer(x)\n",
    "        return nn.SELU()(out+res)\n",
    "\n",
    "\n",
    "class ResNet(nn.Module):\n",
    "    \"\"\"\n",
    "    Made to emulate the Residual Network.\n",
    "    \"\"\"\n",
    "    def __init__(self, num_blocks=None):\n",
    "        super().__init__()\n",
    "        if num_blocks is None:\n",
    "            num_blocks = [3, 4, 6, 3]\n",
    "        self.layer1 = nn.Sequential(nn.Conv2d(3, 64, kernel_size=7, stride=2, padding=3),\n",
    "                                    nn.SELU(),\n",
    "                                    nn.MaxPool2d(3, 2, 1))          # 64\n",
    "\n",
    "        self.layer2 = self._make_layer(64, 64, num_blocks[0], 1)\n",
    "        self.layer3 = self._make_layer(256, 128, num_blocks[1])     # 32\n",
    "        self.layer4 = self._make_layer(512, 256, num_blocks[2])     # 16\n",
    "        self.layer5 = self._make_layer(1024, 512, num_blocks[3])    # 8\n",
    "\n",
    "        self.layer6 = nn.Sequential(nn.AvgPool2d(8),\n",
    "                                    nn.Flatten(),\n",
    "                                    nn.Dropout(0.25),\n",
    "                                    nn.Linear(2048, 1024),\n",
    "                                    nn.ReLU(),\n",
    "                                    nn.Dropout(0.25),\n",
    "                                    nn.Linear(1024, 91))\n",
    "        \n",
    "    def forward(self, x):\n",
    "        x = self.layer1(x)\n",
    "        x = self.layer2(x)\n",
    "        x = self.layer3(x)\n",
    "        x = self.layer4(x)\n",
    "        x = self.layer5(x)\n",
    "        x = self.layer6(x)\n",
    "        return x\n",
    "    \n",
    "    def _make_layer(self, in_channels, mid_channels, blocks, stride=2, expansion=4):\n",
    "        layers = [Block(in_channels, mid_channels, stride)]\n",
    "        for _ in range(1, blocks):\n",
    "            layers.append(Block(mid_channels*expansion, mid_channels))\n",
    "        return nn.Sequential(*layers)"
   ]
  },
  {
   "cell_type": "code",
   "execution_count": 6,
   "id": "27efb73f",
   "metadata": {
    "jupyter": {
     "source_hidden": true
    }
   },
   "outputs": [],
   "source": [
    "### GoogLeNet ####\n",
    "\n",
    "class Block(nn.Module):\n",
    "    def __init__(self, in_channels, out_channels, kernel_size=1, stride=1, padding=0):\n",
    "        super().__init__()\n",
    "        self.conv = nn.Conv2d(in_channels, out_channels, kernel_size, stride, padding)\n",
    "        self.bn = nn.BatchNorm2d(out_channels)\n",
    "\n",
    "    def forward(self, x):\n",
    "        return F.silu(self.bn(self.conv(x)))\n",
    "\n",
    "\n",
    "class MultiStream(nn.Module):\n",
    "    def __init__(self, in_channels, s1, s3, s5):\n",
    "        super().__init__()\n",
    "        self.stream1 = nn.Sequential(nn.AvgPool2d(3, 1, 1), Block(in_channels, s1))     # 1x1\n",
    "        self.stream2 = nn.Sequential(Block(in_channels, s3), Block(s3, s3, 3, 1, 1))    # 3x3\n",
    "        self.stream3 = nn.Sequential(Block(in_channels, s5), Block(s5, s5, 5, 1, 2))    # 4x4\n",
    "    \n",
    "    def forward(self, x):\n",
    "        return torch.cat([self.stream1(x), self.stream2(x), self.stream3(x)], 1)\n",
    "\n",
    "\n",
    "class GoogLeNet(nn.Module):\n",
    "    def __init__(self):\n",
    "        super().__init__()\n",
    "        self.layer1 = nn.Sequential(\n",
    "            nn.Conv2d(3, 32, 3, 1, 1), \n",
    "            nn.ReLU(),\n",
    "            nn.BatchNorm2d(32), \n",
    "            nn.MaxPool2d(2, 2))  # 256 -> 128\n",
    "\n",
    "        self.layer2 = nn.Sequential(\n",
    "            nn.Conv2d(32, 64, 3, 1, 1), \n",
    "            nn.ReLU(), \n",
    "            nn.MaxPool2d(2, 2))  # 128 -> 64\n",
    "\n",
    "        self.layer3 = nn.Sequential(\n",
    "            MultiStream(64, 32, 64, 32),\n",
    "            MultiStream(128, 16, 80, 32),\n",
    "            nn.MaxPool2d(2, 2))  # 64 -> 32\n",
    "\n",
    "        self.layer4 = nn.Sequential(\n",
    "            MultiStream(128, 64, 128, 64),\n",
    "            MultiStream(256, 32, 160, 64),\n",
    "            nn.MaxPool2d(2, 2))  # 32 -> 16\n",
    "\n",
    "        self.layer5 = nn.Sequential(\n",
    "            MultiStream(256, 256, 192, 64),\n",
    "            MultiStream(512, 128, 256, 128),\n",
    "            MultiStream(512, 64, 320, 128),\n",
    "            nn.AvgPool2d(2, 2))  # 16 -> 8\n",
    "\n",
    "        self.layer6 = nn.Sequential(\n",
    "            nn.Conv2d(512, 1024, 4, 2, 1),\n",
    "            nn.ReLU(),\n",
    "            nn.BatchNorm2d(1024),\n",
    "            nn.MaxPool2d(2, 2),\n",
    "            nn.Conv2d(1024, 1024, 1, 1, 0),\n",
    "            nn.MaxPool2d(2, 2)\n",
    "        )\n",
    "\n",
    "        self.fc = nn.Sequential(\n",
    "            nn.Flatten(),\n",
    "            nn.Dropout(),\n",
    "            nn.Linear(1024, 1024),\n",
    "            nn.Dropout(),\n",
    "            nn.ReLU(),\n",
    "            nn.Linear(1024, 1024),\n",
    "            nn.ReLU(),\n",
    "            nn.Linear(1024, 91))\n",
    "\n",
    "\n",
    "    def forward(self, x):\n",
    "        x = self.layer1(x)\n",
    "        x = self.layer2(x)\n",
    "        x = self.layer3(x)\n",
    "        x = self.layer4(x)\n",
    "        x = self.layer5(x)\n",
    "        x = self.layer6(x)\n",
    "        x = self.fc(x)\n",
    "        return x\n"
   ]
  },
  {
   "cell_type": "code",
   "execution_count": 34,
   "id": "4509483a",
   "metadata": {
    "jupyter": {
     "source_hidden": true
    }
   },
   "outputs": [],
   "source": [
    "### AlexNet ###\n",
    "\n",
    "class AlexNet(nn.Module):\n",
    "    def __init__(self):\n",
    "        super().__init__()\n",
    "        self.blck1 = nn.Sequential(\n",
    "            nn.Conv2d(3, 64, 11, 4, 4),\n",
    "            nn.SELU(),\n",
    "            nn.MaxPool2d(2, 2))  # 32\n",
    "\n",
    "        self.blck2 = nn.Sequential(\n",
    "            nn.Conv2d(64, 128, 7, 2, 3),\n",
    "            nn.SELU(),\n",
    "            nn.MaxPool2d(2, 2))  # 8\n",
    "\n",
    "        self.blck3 = nn.Sequential(\n",
    "            nn.Conv2d(128, 256, 5, 1, 2), \n",
    "            nn.SELU(),\n",
    "            nn.BatchNorm2d(256),\n",
    "            \n",
    "            nn.Conv2d(256, 256, 3, 1, 1), \n",
    "            nn.SELU(),\n",
    "\n",
    "            nn.Conv2d(256, 512, 3, 1, 1), \n",
    "            nn.SELU(),\n",
    "            nn.BatchNorm2d(512),\n",
    "            nn.MaxPool2d(2, 2))  # 4\n",
    "        \n",
    "        self.blck4 = nn.Sequential(\n",
    "            nn.Conv2d(256, 512, 5, 1, 2), \n",
    "            nn.SELU(),\n",
    "            nn.Conv2d(512, 512, 3, 1, 1), \n",
    "            nn.SELU(),\n",
    "            nn.Conv2d(512, 1024, 3, 1, 1), \n",
    "            nn.SELU(),\n",
    "            nn.BatchNorm2d(1024),\n",
    "            nn.MaxPool2d(2, 2))  # 2\n",
    "        \n",
    "        self.fcll = nn.Sequential(\n",
    "            nn.AdaptiveAvgPool2d(1),\n",
    "            nn.Flatten(),\n",
    "            nn.Dropout(0.25),\n",
    "            nn.Linear(512, 512),\n",
    "            nn.ReLU(),\n",
    "            nn.Dropout(0.25),\n",
    "            nn.Linear(512, 256),\n",
    "            nn.ReLU(),\n",
    "            nn.Linear(256, 91)\n",
    "        )\n",
    "\n",
    "    def forward(self, x):\n",
    "        x = self.blck1(x)\n",
    "        x = self.blck2(x)\n",
    "        x = self.blck3(x)\n",
    "        x = self.fcll(x)\n",
    "        return x"
   ]
  },
  {
   "cell_type": "code",
   "execution_count": 75,
   "id": "607c9951",
   "metadata": {},
   "outputs": [
    {
     "name": "stdout",
     "output_type": "stream",
     "text": [
      "torch.Size([16, 91])\n"
     ]
    }
   ],
   "source": [
    "x = torch.randn(batch_size, 3, 256, 256)\n",
    "trial = ResNet()\n",
    "print(trial(x).shape)"
   ]
  },
  {
   "cell_type": "markdown",
   "id": "8c602d154e795a27",
   "metadata": {},
   "source": [
    "# Training the model\n",
    "Implement your training process below. Report the test-accuracy after every epoch for the training run of the final model.\n",
    "\n",
    "Hint: before training your model make sure to reset the seed in the training cell, as otherwise the seed may have changed due to previous training runs in the notebook\n",
    "\n",
    "Note: If you implement automatic hyperparameter tuning, split the train set into train and validation subsets for the objective function."
   ]
  },
  {
   "cell_type": "code",
   "execution_count": 37,
   "id": "7ff7d9d84c06f5d8",
   "metadata": {
    "jupyter": {
     "source_hidden": true
    }
   },
   "outputs": [],
   "source": [
    "### TRAINING FUNCTIONS ###\n",
    "\n",
    "def train(model, dataloader, optimizer, loss_fn, updates):\n",
    "    \"\"\"\n",
    "    One epoch of model training.\n",
    "    \"\"\"\n",
    "    model.train()\n",
    "\n",
    "    running_loss = 0.0\n",
    "    running_accuracy = 0.0\n",
    "    for idx, data in enumerate(dataloader):\n",
    "        images, labels = data[0].to(device), data[1].to(device)\n",
    "\n",
    "        # Forward propagate\n",
    "        optimizer.zero_grad()\n",
    "        outputs = model(images)\n",
    "        correct = sum(labels == torch.argmax(outputs, 1)).item()\n",
    "        running_accuracy += correct/batch_size\n",
    "\n",
    "        # Back-propagate and optimize\n",
    "        loss = loss_fn(outputs, labels)\n",
    "        running_loss += loss.item()\n",
    "        loss.backward()\n",
    "        optimizer.step()\n",
    "\n",
    "        # Print a snapshot of the training\n",
    "        if idx % updates == (updates-1):\n",
    "            avg_loss_across_batches = running_loss / updates\n",
    "            avg_acc_across_batches = (running_accuracy / updates) * 100\n",
    "            print('Batch {}, Loss: {:.3f}, Accuracy: {:.2f}%'.format(idx+1, avg_loss_across_batches, avg_acc_across_batches))\n",
    "            running_loss = 0.0\n",
    "            running_accuracy = 0.0\n",
    "\n",
    "\n",
    "def validate(model, dataloader, loss_fn):\n",
    "    \"\"\"\n",
    "    One validation test.\n",
    "    \"\"\"\n",
    "    model.eval()\n",
    "\n",
    "    running_loss = 0.0\n",
    "    running_accuracy = 0.0\n",
    "    for data in iter(dataloader):\n",
    "        images, labels = data[0].to(device), data[1].to(device)\n",
    "\n",
    "        # With no gradient to increase efficiency\n",
    "        with torch.no_grad():\n",
    "            outputs = model(images)\n",
    "            correct = sum(labels == torch.argmax(outputs, 1)).item()\n",
    "            running_accuracy += correct/batch_size\n",
    "\n",
    "            loss = loss_fn(outputs, labels)\n",
    "            running_loss += loss.item()\n",
    "\n",
    "    avg_loss_across_batches = running_loss / len(dataloader)\n",
    "    avg_acc_across_batches = (running_accuracy / len(dataloader)) * 100\n",
    "    \n",
    "    print('Val Loss: {:.3f}, Val Accuracy: {:.2f}%'.format(avg_loss_across_batches, avg_acc_across_batches))\n",
    "    return avg_loss_across_batches\n",
    "\n",
    "\n",
    "def accuracy(model, dataloader):\n",
    "    \"\"\"\n",
    "    One test accuracy test.\n",
    "    \"\"\"\n",
    "    model.eval()\n",
    "\n",
    "    running_accuracy = 0.0\n",
    "    for data in iter(dataloader):\n",
    "        images, labels = data[0].to(device), data[1].to(device)\n",
    "\n",
    "        with torch.no_grad():\n",
    "            outputs = model(images)\n",
    "            correct = sum(labels == torch.argmax(outputs, 1)).item()\n",
    "            running_accuracy += correct/batch_size\n",
    "\n",
    "    avg_acc_across_batches = (running_accuracy / len(dataloader)) * 100\n",
    "    print('Accuracy: {:.2f}%'.format(avg_acc_across_batches))\n",
    "    return avg_acc_across_batches\n",
    "\n",
    "\n",
    "def run_epochs(num_epochs, model, optimizer, loss_fn, scheduler=None, epoch=0, regret=10.0, grudge=0, pride=0.0, updates=500):\n",
    "    \"\"\"\n",
    "    An entire training session.\n",
    "    \"\"\"\n",
    "    upper = epoch+num_epochs\n",
    "    for epoch in range(epoch, upper):\n",
    "        # Start epoch\n",
    "        print(f\"Epoch {epoch+1} begin: {dt.now()}.\")\n",
    "        start = time()\n",
    "\n",
    "        # Train the model\n",
    "        train(model, train_loader, optimizer, loss_fn, updates)\n",
    "        print('Completed training after {:.2f} seconds.'.format((time() - start)))\n",
    "        check_point = time()\n",
    "\n",
    "        # Validate the model\n",
    "        val_loss = validate(model, val_loader, loss_fn)\n",
    "        print('Completed validation after {:.2f} seconds.'.format((time() - check_point)))\n",
    "        check_point = time()\n",
    "\n",
    "        # Test the model\n",
    "        acc = accuracy(model, test_loader)\n",
    "        print('Completed testing after {:.2f} seconds.'.format((time() - check_point)))\n",
    "\n",
    "        # Update learning rate\n",
    "        if scheduler is not None:\n",
    "            scheduler.step(val_loss)\n",
    "\n",
    "        # Output an update\n",
    "        print('Total epoch time: {:.2f} seconds.'.format((time() - start)))\n",
    "        print('Epoch [{}/{}]'.format(epoch+1, upper))\n",
    "        check_point = time()\n",
    "\n",
    "        # Update emotional state\n",
    "        if pride < acc:\n",
    "            pride = acc\n",
    "            print(\"Check-point!\")\n",
    "            torch.save(model.state_dict(), \"./checkpoint-2.pth\")\n",
    "        grudge = 0 if val_loss <= regret else grudge + 1\n",
    "        regret = val_loss\n",
    "        if 6 < grudge:\n",
    "            print(\"Overfitting!\")\n",
    "            torch.save(model.state_dict(), \"./endpoint-2.pth\")\n",
    "            break\n",
    "        print(\"####################################################################################################\")\n",
    "    return epoch+1, regret, grudge, pride"
   ]
  },
  {
   "cell_type": "code",
   "execution_count": 41,
   "id": "b64bdded-ce24-45ce-b181-c14c7cbf419b",
   "metadata": {
    "jupyter": {
     "source_hidden": true
    }
   },
   "outputs": [],
   "source": [
    "class FocalLoss(nn.Module):\n",
    "    \"\"\"\n",
    "    Sourced from \"Focal Loss for Dense Object Detection\" (2017)\n",
    "    \"\"\"\n",
    "    def __init__(self, gamma=0, alpha=None, size_average=True):\n",
    "        super().__init__()\n",
    "        self.gamma = gamma\n",
    "        self.alpha = alpha\n",
    "        self.size_average = size_average        \n",
    "        if isinstance(alpha, list):\n",
    "            self.alpha = torch.Tensor(alpha).to(device)\n",
    "        if isinstance(alpha, (float, int)):\n",
    "            self.alpha = torch.Tensor([alpha, 1-alpha]).to(device)\n",
    "\n",
    "    def forward(self, outputs, labels):\n",
    "        if 2 < outputs.dim():\n",
    "            outputs = outputs.view(outputs.size(0), outputs.size(1), -1)\n",
    "            outputs = outputs.transpose(1, 2)\n",
    "            outputs = outputs.contiguous().view(-1, outputs.size(2))\n",
    "        labels = labels.view(-1, 1)\n",
    "\n",
    "        logpt = F.log_softmax(outputs, dim=1)  # Change to include dimension\n",
    "        logpt = logpt.gather(1, labels)\n",
    "        logpt = logpt.view(-1)\n",
    "        pt = Variable(logpt.data.exp())\n",
    "\n",
    "        if self.alpha is not None:\n",
    "            if self.alpha.type() != outputs.data.type():\n",
    "                self.alpha = self.alpha.type_as(outputs.data)\n",
    "            at = self.alpha.gather(0, labels.data.view(-1))\n",
    "            logpt *= Variable(at)\n",
    "\n",
    "        loss = -1 * (1-pt)**self.gamma * logpt\n",
    "        if self.size_average:\n",
    "            return loss.mean()\n",
    "        return loss.sum()"
   ]
  },
  {
   "cell_type": "code",
   "execution_count": null,
   "id": "dde65578",
   "metadata": {},
   "outputs": [
    {
     "name": "stdout",
     "output_type": "stream",
     "text": [
      "Epoch 1 begin: 2025-05-12 16:04:37.115669.\n",
      "Batch 500, Loss: 4.522, Accuracy: 2.35%\n",
      "Batch 1000, Loss: 4.430, Accuracy: 2.85%\n",
      "Batch 1500, Loss: 4.359, Accuracy: 3.71%\n"
     ]
    }
   ],
   "source": [
    "### TRAINING ###\n",
    "\n",
    "# Allow repeatability\n",
    "np.random.seed(random_seed)\n",
    "torch.manual_seed(random_seed)\n",
    "torch.cuda.manual_seed_all(random_seed)\n",
    "\n",
    "# Create model object and connect it to the corresponding processing\n",
    "model = ResNet().to(device)\n",
    "\n",
    "# Define loss and optimizer\n",
    "loss_fn = nn.CrossEntropyLoss()  # loss_fn = FocalLoss(gamma=1.5)\n",
    "optimizer = torch.optim.SGD(model.parameters(), lr=lr, momentum=momentum)\n",
    "scheduler = lr_scheduler.ReduceLROnPlateau(optimizer, patience=4)\n",
    "\n",
    "# Define mental state and start\n",
    "epoch, regret, grudge, pride, updates = 0, 10.0, 0, 0.0, 500\n",
    "epoch, regret, grudge, pride = run_epochs(num_epochs, model, optimizer, loss_fn, scheduler, epoch, regret, grudge, pride, updates)"
   ]
  },
  {
   "cell_type": "code",
   "execution_count": null,
   "id": "1c8b0bea-7537-4bcd-acd8-dc2a5b30e212",
   "metadata": {},
   "outputs": [],
   "source": [
    "model, seed, batch_size, lr, momentum"
   ]
  },
  {
   "cell_type": "code",
   "execution_count": null,
   "id": "bf0d9782",
   "metadata": {
    "collapsed": true,
    "jupyter": {
     "outputs_hidden": true,
     "source_hidden": true
    }
   },
   "outputs": [
    {
     "name": "stdout",
     "output_type": "stream",
     "text": [
      "Epoch 12 begin: 2025-05-07 19:04:35.135978.\n",
      "Batch 1000, Loss: 4.501, Accuracy: 2.49%\n",
      "Batch 2000, Loss: 4.500, Accuracy: 2.74%\n",
      "Batch 3000, Loss: 4.501, Accuracy: 2.48%\n",
      "Batch 4000, Loss: 4.500, Accuracy: 2.71%\n",
      "Batch 5000, Loss: 4.500, Accuracy: 2.65%\n",
      "Completed training after 187.65 seconds.\n",
      "Val Loss: 4.500, Val Accuracy: 2.67%\n",
      "Completed validation after 7.11 seconds.\n",
      "Accuracy: 2.74%\n",
      "Completed testing after 34.00 seconds.\n",
      "Total epoch time: 228.76 seconds.\n",
      "Epoch [12/61]\n",
      "####################################################################################################\n",
      "Epoch 13 begin: 2025-05-07 19:08:23.899848.\n",
      "Batch 1000, Loss: 4.499, Accuracy: 2.79%\n",
      "Batch 2000, Loss: 4.504, Accuracy: 2.41%\n",
      "Batch 3000, Loss: 4.502, Accuracy: 2.39%\n",
      "Batch 4000, Loss: 4.502, Accuracy: 2.55%\n"
     ]
    }
   ],
   "source": [
    "### FURTHER TRAINING ###\n",
    "epoch, regret, grudge, pride = run_epochs(num_epochs, model, optimizer, loss_fn, scheduler, epoch, 10.0, 0, pride, updates)"
   ]
  },
  {
   "cell_type": "code",
   "execution_count": 15,
   "id": "a90ea130",
   "metadata": {
    "collapsed": true,
    "jupyter": {
     "outputs_hidden": true,
     "source_hidden": true
    }
   },
   "outputs": [
    {
     "name": "stdout",
     "output_type": "stream",
     "text": [
      "Epoch 1 begin: 2025-05-12 13:20:32.985275.\n",
      "Batch 500, Loss: 4.511, Accuracy: 0.97%\n",
      "Batch 1000, Loss: 4.511, Accuracy: 1.46%\n",
      "Batch 1500, Loss: 4.511, Accuracy: 1.35%\n",
      "Batch 2000, Loss: 4.511, Accuracy: 1.38%\n",
      "Batch 2500, Loss: 4.511, Accuracy: 1.62%\n",
      "Completed training after 31.92 seconds.\n",
      "Val Loss: 4.511, Val Accuracy: 2.32%\n",
      "Completed validation after 2.02 seconds.\n"
     ]
    },
    {
     "ename": "KeyboardInterrupt",
     "evalue": "",
     "output_type": "error",
     "traceback": [
      "\u001b[0;31m---------------------------------------------------------------------------\u001b[0m",
      "\u001b[0;31mKeyboardInterrupt\u001b[0m                         Traceback (most recent call last)",
      "Cell \u001b[0;32mIn[15], line 25\u001b[0m\n\u001b[1;32m     22\u001b[0m \u001b[38;5;28mprint\u001b[39m(\u001b[38;5;124m'\u001b[39m\u001b[38;5;124mCompleted validation after \u001b[39m\u001b[38;5;132;01m{:.2f}\u001b[39;00m\u001b[38;5;124m seconds.\u001b[39m\u001b[38;5;124m'\u001b[39m\u001b[38;5;241m.\u001b[39mformat((time() \u001b[38;5;241m-\u001b[39m check_point)))\n\u001b[1;32m     23\u001b[0m check_point \u001b[38;5;241m=\u001b[39m time()\n\u001b[0;32m---> 25\u001b[0m \u001b[43maccuracy\u001b[49m\u001b[43m(\u001b[49m\u001b[43mmodel\u001b[49m\u001b[43m,\u001b[49m\u001b[43m \u001b[49m\u001b[43mtest_loader\u001b[49m\u001b[43m)\u001b[49m\n\u001b[1;32m     26\u001b[0m \u001b[38;5;28mprint\u001b[39m(\u001b[38;5;124m'\u001b[39m\u001b[38;5;124mCompleted testing after \u001b[39m\u001b[38;5;132;01m{:.2f}\u001b[39;00m\u001b[38;5;124m seconds.\u001b[39m\u001b[38;5;124m'\u001b[39m\u001b[38;5;241m.\u001b[39mformat((time() \u001b[38;5;241m-\u001b[39m check_point)))\n\u001b[1;32m     27\u001b[0m scheduler\u001b[38;5;241m.\u001b[39mstep(val_loss)\n",
      "Cell \u001b[0;32mIn[10], line 69\u001b[0m, in \u001b[0;36maccuracy\u001b[0;34m(model, dataloader)\u001b[0m\n\u001b[1;32m     66\u001b[0m model\u001b[38;5;241m.\u001b[39meval()\n\u001b[1;32m     68\u001b[0m running_accuracy \u001b[38;5;241m=\u001b[39m \u001b[38;5;241m0.0\u001b[39m\n\u001b[0;32m---> 69\u001b[0m \u001b[38;5;28;01mfor\u001b[39;00m data \u001b[38;5;129;01min\u001b[39;00m \u001b[38;5;28miter\u001b[39m(dataloader):\n\u001b[1;32m     70\u001b[0m     images, labels \u001b[38;5;241m=\u001b[39m data[\u001b[38;5;241m0\u001b[39m]\u001b[38;5;241m.\u001b[39mto(device), data[\u001b[38;5;241m1\u001b[39m]\u001b[38;5;241m.\u001b[39mto(device)\n\u001b[1;32m     72\u001b[0m     \u001b[38;5;28;01mwith\u001b[39;00m torch\u001b[38;5;241m.\u001b[39mno_grad():\n",
      "File \u001b[0;32m~/Desktop/Neural Computing/Py1/lib/python3.10/site-packages/torch/utils/data/dataloader.py:733\u001b[0m, in \u001b[0;36m_BaseDataLoaderIter.__next__\u001b[0;34m(self)\u001b[0m\n\u001b[1;32m    730\u001b[0m \u001b[38;5;28;01mif\u001b[39;00m \u001b[38;5;28mself\u001b[39m\u001b[38;5;241m.\u001b[39m_sampler_iter \u001b[38;5;129;01mis\u001b[39;00m \u001b[38;5;28;01mNone\u001b[39;00m:\n\u001b[1;32m    731\u001b[0m     \u001b[38;5;66;03m# TODO(https://github.com/pytorch/pytorch/issues/76750)\u001b[39;00m\n\u001b[1;32m    732\u001b[0m     \u001b[38;5;28mself\u001b[39m\u001b[38;5;241m.\u001b[39m_reset()  \u001b[38;5;66;03m# type: ignore[call-arg]\u001b[39;00m\n\u001b[0;32m--> 733\u001b[0m data \u001b[38;5;241m=\u001b[39m \u001b[38;5;28;43mself\u001b[39;49m\u001b[38;5;241;43m.\u001b[39;49m\u001b[43m_next_data\u001b[49m\u001b[43m(\u001b[49m\u001b[43m)\u001b[49m\n\u001b[1;32m    734\u001b[0m \u001b[38;5;28mself\u001b[39m\u001b[38;5;241m.\u001b[39m_num_yielded \u001b[38;5;241m+\u001b[39m\u001b[38;5;241m=\u001b[39m \u001b[38;5;241m1\u001b[39m\n\u001b[1;32m    735\u001b[0m \u001b[38;5;28;01mif\u001b[39;00m (\n\u001b[1;32m    736\u001b[0m     \u001b[38;5;28mself\u001b[39m\u001b[38;5;241m.\u001b[39m_dataset_kind \u001b[38;5;241m==\u001b[39m _DatasetKind\u001b[38;5;241m.\u001b[39mIterable\n\u001b[1;32m    737\u001b[0m     \u001b[38;5;129;01mand\u001b[39;00m \u001b[38;5;28mself\u001b[39m\u001b[38;5;241m.\u001b[39m_IterableDataset_len_called \u001b[38;5;129;01mis\u001b[39;00m \u001b[38;5;129;01mnot\u001b[39;00m \u001b[38;5;28;01mNone\u001b[39;00m\n\u001b[1;32m    738\u001b[0m     \u001b[38;5;129;01mand\u001b[39;00m \u001b[38;5;28mself\u001b[39m\u001b[38;5;241m.\u001b[39m_num_yielded \u001b[38;5;241m>\u001b[39m \u001b[38;5;28mself\u001b[39m\u001b[38;5;241m.\u001b[39m_IterableDataset_len_called\n\u001b[1;32m    739\u001b[0m ):\n",
      "File \u001b[0;32m~/Desktop/Neural Computing/Py1/lib/python3.10/site-packages/torch/utils/data/dataloader.py:1491\u001b[0m, in \u001b[0;36m_MultiProcessingDataLoaderIter._next_data\u001b[0;34m(self)\u001b[0m\n\u001b[1;32m   1488\u001b[0m     \u001b[38;5;28;01mreturn\u001b[39;00m \u001b[38;5;28mself\u001b[39m\u001b[38;5;241m.\u001b[39m_process_data(data, worker_id)\n\u001b[1;32m   1490\u001b[0m \u001b[38;5;28;01massert\u001b[39;00m \u001b[38;5;129;01mnot\u001b[39;00m \u001b[38;5;28mself\u001b[39m\u001b[38;5;241m.\u001b[39m_shutdown \u001b[38;5;129;01mand\u001b[39;00m \u001b[38;5;28mself\u001b[39m\u001b[38;5;241m.\u001b[39m_tasks_outstanding \u001b[38;5;241m>\u001b[39m \u001b[38;5;241m0\u001b[39m\n\u001b[0;32m-> 1491\u001b[0m idx, data \u001b[38;5;241m=\u001b[39m \u001b[38;5;28;43mself\u001b[39;49m\u001b[38;5;241;43m.\u001b[39;49m\u001b[43m_get_data\u001b[49m\u001b[43m(\u001b[49m\u001b[43m)\u001b[49m\n\u001b[1;32m   1492\u001b[0m \u001b[38;5;28mself\u001b[39m\u001b[38;5;241m.\u001b[39m_tasks_outstanding \u001b[38;5;241m-\u001b[39m\u001b[38;5;241m=\u001b[39m \u001b[38;5;241m1\u001b[39m\n\u001b[1;32m   1493\u001b[0m \u001b[38;5;28;01mif\u001b[39;00m \u001b[38;5;28mself\u001b[39m\u001b[38;5;241m.\u001b[39m_dataset_kind \u001b[38;5;241m==\u001b[39m _DatasetKind\u001b[38;5;241m.\u001b[39mIterable:\n\u001b[1;32m   1494\u001b[0m     \u001b[38;5;66;03m# Check for _IterableDatasetStopIteration\u001b[39;00m\n",
      "File \u001b[0;32m~/Desktop/Neural Computing/Py1/lib/python3.10/site-packages/torch/utils/data/dataloader.py:1453\u001b[0m, in \u001b[0;36m_MultiProcessingDataLoaderIter._get_data\u001b[0;34m(self)\u001b[0m\n\u001b[1;32m   1449\u001b[0m     \u001b[38;5;66;03m# In this case, `self._data_queue` is a `queue.Queue`,. But we don't\u001b[39;00m\n\u001b[1;32m   1450\u001b[0m     \u001b[38;5;66;03m# need to call `.task_done()` because we don't use `.join()`.\u001b[39;00m\n\u001b[1;32m   1451\u001b[0m \u001b[38;5;28;01melse\u001b[39;00m:\n\u001b[1;32m   1452\u001b[0m     \u001b[38;5;28;01mwhile\u001b[39;00m \u001b[38;5;28;01mTrue\u001b[39;00m:\n\u001b[0;32m-> 1453\u001b[0m         success, data \u001b[38;5;241m=\u001b[39m \u001b[38;5;28;43mself\u001b[39;49m\u001b[38;5;241;43m.\u001b[39;49m\u001b[43m_try_get_data\u001b[49m\u001b[43m(\u001b[49m\u001b[43m)\u001b[49m\n\u001b[1;32m   1454\u001b[0m         \u001b[38;5;28;01mif\u001b[39;00m success:\n\u001b[1;32m   1455\u001b[0m             \u001b[38;5;28;01mreturn\u001b[39;00m data\n",
      "File \u001b[0;32m~/Desktop/Neural Computing/Py1/lib/python3.10/site-packages/torch/utils/data/dataloader.py:1284\u001b[0m, in \u001b[0;36m_MultiProcessingDataLoaderIter._try_get_data\u001b[0;34m(self, timeout)\u001b[0m\n\u001b[1;32m   1271\u001b[0m \u001b[38;5;28;01mdef\u001b[39;00m\u001b[38;5;250m \u001b[39m\u001b[38;5;21m_try_get_data\u001b[39m(\u001b[38;5;28mself\u001b[39m, timeout\u001b[38;5;241m=\u001b[39m_utils\u001b[38;5;241m.\u001b[39mMP_STATUS_CHECK_INTERVAL):\n\u001b[1;32m   1272\u001b[0m     \u001b[38;5;66;03m# Tries to fetch data from `self._data_queue` once for a given timeout.\u001b[39;00m\n\u001b[1;32m   1273\u001b[0m     \u001b[38;5;66;03m# This can also be used as inner loop of fetching without timeout, with\u001b[39;00m\n\u001b[0;32m   (...)\u001b[0m\n\u001b[1;32m   1281\u001b[0m     \u001b[38;5;66;03m# Returns a 2-tuple:\u001b[39;00m\n\u001b[1;32m   1282\u001b[0m     \u001b[38;5;66;03m#   (bool: whether successfully get data, any: data if successful else None)\u001b[39;00m\n\u001b[1;32m   1283\u001b[0m     \u001b[38;5;28;01mtry\u001b[39;00m:\n\u001b[0;32m-> 1284\u001b[0m         data \u001b[38;5;241m=\u001b[39m \u001b[38;5;28;43mself\u001b[39;49m\u001b[38;5;241;43m.\u001b[39;49m\u001b[43m_data_queue\u001b[49m\u001b[38;5;241;43m.\u001b[39;49m\u001b[43mget\u001b[49m\u001b[43m(\u001b[49m\u001b[43mtimeout\u001b[49m\u001b[38;5;241;43m=\u001b[39;49m\u001b[43mtimeout\u001b[49m\u001b[43m)\u001b[49m\n\u001b[1;32m   1285\u001b[0m         \u001b[38;5;28;01mreturn\u001b[39;00m (\u001b[38;5;28;01mTrue\u001b[39;00m, data)\n\u001b[1;32m   1286\u001b[0m     \u001b[38;5;28;01mexcept\u001b[39;00m \u001b[38;5;167;01mException\u001b[39;00m \u001b[38;5;28;01mas\u001b[39;00m e:\n\u001b[1;32m   1287\u001b[0m         \u001b[38;5;66;03m# At timeout and error, we manually check whether any worker has\u001b[39;00m\n\u001b[1;32m   1288\u001b[0m         \u001b[38;5;66;03m# failed. Note that this is the only mechanism for Windows to detect\u001b[39;00m\n\u001b[1;32m   1289\u001b[0m         \u001b[38;5;66;03m# worker failures.\u001b[39;00m\n",
      "File \u001b[0;32m/usr/lib/python3.10/multiprocessing/queues.py:113\u001b[0m, in \u001b[0;36mQueue.get\u001b[0;34m(self, block, timeout)\u001b[0m\n\u001b[1;32m    111\u001b[0m \u001b[38;5;28;01mif\u001b[39;00m block:\n\u001b[1;32m    112\u001b[0m     timeout \u001b[38;5;241m=\u001b[39m deadline \u001b[38;5;241m-\u001b[39m time\u001b[38;5;241m.\u001b[39mmonotonic()\n\u001b[0;32m--> 113\u001b[0m     \u001b[38;5;28;01mif\u001b[39;00m \u001b[38;5;129;01mnot\u001b[39;00m \u001b[38;5;28;43mself\u001b[39;49m\u001b[38;5;241;43m.\u001b[39;49m\u001b[43m_poll\u001b[49m\u001b[43m(\u001b[49m\u001b[43mtimeout\u001b[49m\u001b[43m)\u001b[49m:\n\u001b[1;32m    114\u001b[0m         \u001b[38;5;28;01mraise\u001b[39;00m Empty\n\u001b[1;32m    115\u001b[0m \u001b[38;5;28;01melif\u001b[39;00m \u001b[38;5;129;01mnot\u001b[39;00m \u001b[38;5;28mself\u001b[39m\u001b[38;5;241m.\u001b[39m_poll():\n",
      "File \u001b[0;32m/usr/lib/python3.10/multiprocessing/connection.py:257\u001b[0m, in \u001b[0;36m_ConnectionBase.poll\u001b[0;34m(self, timeout)\u001b[0m\n\u001b[1;32m    255\u001b[0m \u001b[38;5;28mself\u001b[39m\u001b[38;5;241m.\u001b[39m_check_closed()\n\u001b[1;32m    256\u001b[0m \u001b[38;5;28mself\u001b[39m\u001b[38;5;241m.\u001b[39m_check_readable()\n\u001b[0;32m--> 257\u001b[0m \u001b[38;5;28;01mreturn\u001b[39;00m \u001b[38;5;28;43mself\u001b[39;49m\u001b[38;5;241;43m.\u001b[39;49m\u001b[43m_poll\u001b[49m\u001b[43m(\u001b[49m\u001b[43mtimeout\u001b[49m\u001b[43m)\u001b[49m\n",
      "File \u001b[0;32m/usr/lib/python3.10/multiprocessing/connection.py:424\u001b[0m, in \u001b[0;36mConnection._poll\u001b[0;34m(self, timeout)\u001b[0m\n\u001b[1;32m    423\u001b[0m \u001b[38;5;28;01mdef\u001b[39;00m\u001b[38;5;250m \u001b[39m\u001b[38;5;21m_poll\u001b[39m(\u001b[38;5;28mself\u001b[39m, timeout):\n\u001b[0;32m--> 424\u001b[0m     r \u001b[38;5;241m=\u001b[39m \u001b[43mwait\u001b[49m\u001b[43m(\u001b[49m\u001b[43m[\u001b[49m\u001b[38;5;28;43mself\u001b[39;49m\u001b[43m]\u001b[49m\u001b[43m,\u001b[49m\u001b[43m \u001b[49m\u001b[43mtimeout\u001b[49m\u001b[43m)\u001b[49m\n\u001b[1;32m    425\u001b[0m     \u001b[38;5;28;01mreturn\u001b[39;00m \u001b[38;5;28mbool\u001b[39m(r)\n",
      "File \u001b[0;32m/usr/lib/python3.10/multiprocessing/connection.py:931\u001b[0m, in \u001b[0;36mwait\u001b[0;34m(object_list, timeout)\u001b[0m\n\u001b[1;32m    928\u001b[0m     deadline \u001b[38;5;241m=\u001b[39m time\u001b[38;5;241m.\u001b[39mmonotonic() \u001b[38;5;241m+\u001b[39m timeout\n\u001b[1;32m    930\u001b[0m \u001b[38;5;28;01mwhile\u001b[39;00m \u001b[38;5;28;01mTrue\u001b[39;00m:\n\u001b[0;32m--> 931\u001b[0m     ready \u001b[38;5;241m=\u001b[39m \u001b[43mselector\u001b[49m\u001b[38;5;241;43m.\u001b[39;49m\u001b[43mselect\u001b[49m\u001b[43m(\u001b[49m\u001b[43mtimeout\u001b[49m\u001b[43m)\u001b[49m\n\u001b[1;32m    932\u001b[0m     \u001b[38;5;28;01mif\u001b[39;00m ready:\n\u001b[1;32m    933\u001b[0m         \u001b[38;5;28;01mreturn\u001b[39;00m [key\u001b[38;5;241m.\u001b[39mfileobj \u001b[38;5;28;01mfor\u001b[39;00m (key, events) \u001b[38;5;129;01min\u001b[39;00m ready]\n",
      "File \u001b[0;32m/usr/lib/python3.10/selectors.py:416\u001b[0m, in \u001b[0;36m_PollLikeSelector.select\u001b[0;34m(self, timeout)\u001b[0m\n\u001b[1;32m    414\u001b[0m ready \u001b[38;5;241m=\u001b[39m []\n\u001b[1;32m    415\u001b[0m \u001b[38;5;28;01mtry\u001b[39;00m:\n\u001b[0;32m--> 416\u001b[0m     fd_event_list \u001b[38;5;241m=\u001b[39m \u001b[38;5;28;43mself\u001b[39;49m\u001b[38;5;241;43m.\u001b[39;49m\u001b[43m_selector\u001b[49m\u001b[38;5;241;43m.\u001b[39;49m\u001b[43mpoll\u001b[49m\u001b[43m(\u001b[49m\u001b[43mtimeout\u001b[49m\u001b[43m)\u001b[49m\n\u001b[1;32m    417\u001b[0m \u001b[38;5;28;01mexcept\u001b[39;00m \u001b[38;5;167;01mInterruptedError\u001b[39;00m:\n\u001b[1;32m    418\u001b[0m     \u001b[38;5;28;01mreturn\u001b[39;00m ready\n",
      "\u001b[0;31mKeyboardInterrupt\u001b[0m: "
     ]
    }
   ],
   "source": [
    "# Nico's net\n",
    "\n",
    "np.random.seed(random_seed)\n",
    "torch.manual_seed(random_seed)\n",
    "torch.cuda.manual_seed_all(random_seed)\n",
    "\n",
    "model = AlexNet().to(device)\n",
    "loss_fn = nn.CrossEntropyLoss() \n",
    "optimizer = torch.optim.SGD(model.parameters(), lr=0.01, momentum=0.38)\n",
    "scheduler = lr_scheduler.ReduceLROnPlateau(optimizer, patience=2)\n",
    "\n",
    "# Train model\n",
    "for epoch in range(20):\n",
    "    print(f\"Epoch {epoch+1} begin: {dt.now()}.\")\n",
    "    start = time()\n",
    "\n",
    "    train(model, train_loader, optimizer, loss_fn, 500)\n",
    "    print('Completed training after {:.2f} seconds.'.format((time() - start)))\n",
    "    check_point = time()\n",
    "\n",
    "    val_loss = validate(model, val_loader, loss_fn)\n",
    "    print('Completed validation after {:.2f} seconds.'.format((time() - check_point)))\n",
    "    check_point = time()\n",
    "\n",
    "    accuracy(model, test_loader)\n",
    "    print('Completed testing after {:.2f} seconds.'.format((time() - check_point)))\n",
    "    scheduler.step(val_loss)\n",
    "\n",
    "    # Output an update\n",
    "    print('Total epoch time: {:.2f} seconds.'.format((time() - start)))\n",
    "    print('Epoch [{}/{}]'.format(epoch+1, 20))\n",
    "    print(\"####################################################################################################\")"
   ]
  },
  {
   "cell_type": "markdown",
   "id": "eb476e18bd30968c",
   "metadata": {},
   "source": [
    "# Calculating model performance\n",
    "Load the best version of your model ( which should be produced and saved by previous cells ), calculate and report the test accuracy."
   ]
  },
  {
   "cell_type": "code",
   "execution_count": null,
   "id": "1eaa35096547d04",
   "metadata": {
    "collapsed": true,
    "jupyter": {
     "outputs_hidden": true,
     "source_hidden": true
    }
   },
   "outputs": [],
   "source": [
    "### MODEL COMPARISONS ###\n",
    "\n",
    "# Load the best model weights\n",
    "model2 = CNN().to(device)\n",
    "model2.load_state_dict(torch.load(\"checkpoint.pth\", weights_only=True))\n",
    "\n",
    "# Calculate and present final scores\n",
    "final_test_acc = accuracy(model2, test_loader)\n",
    "print(f\"Final Test Accuracy: {final_test_acc:.2f}%\")\n"
   ]
  },
  {
   "cell_type": "markdown",
   "id": "85ecc6f7f921591e",
   "metadata": {},
   "source": [
    "# Summary of hyperparameters\n",
    "Report the hyperparameters ( learning rate etc ) that you used in your final model for reproducibility."
   ]
  },
  {
   "cell_type": "markdown",
   "id": "d5b6a524e28b431a",
   "metadata": {},
   "source": [
    "# Simulation of random user\n",
    "Pick 10 random pictures of the test set to simulate a user uploading images and report which categories occur how often in these: 1pt"
   ]
  },
  {
   "cell_type": "code",
   "execution_count": null,
   "id": "2b6e8175cacc8dfe",
   "metadata": {
    "ExecuteTime": {
     "end_time": "2025-04-02T17:04:06.539916Z",
     "start_time": "2025-04-02T17:04:05.929092Z"
    },
    "collapsed": true,
    "jupyter": {
     "outputs_hidden": true
    }
   },
   "outputs": [],
   "source": [
    "# Your code here\n",
    "# Below an example showing the format of the code output"
   ]
  },
  {
   "cell_type": "markdown",
   "id": "88e7a3634bf6861f",
   "metadata": {},
   "source": [
    "# Bonus point\n",
    "Use an LLM (API) to generate a description of the food preference of a user based on 10 images that a potential user could provide. \n",
    "Please include an example of the output of your code, especially if you used an API other than the OpenAI API.\n",
    "\n",
    "This should work well even with differing test images by setting different random seeds for the image selector."
   ]
  },
  {
   "cell_type": "code",
   "execution_count": null,
   "id": "6819fa0042485dae",
   "metadata": {
    "collapsed": true,
    "jupyter": {
     "outputs_hidden": true
    }
   },
   "outputs": [],
   "source": []
  }
 ],
 "metadata": {
  "kernelspec": {
   "display_name": "IPy1",
   "language": "python",
   "name": "ipy1"
  },
  "language_info": {
   "codemirror_mode": {
    "name": "ipython",
    "version": 3
   },
   "file_extension": ".py",
   "mimetype": "text/x-python",
   "name": "python",
   "nbconvert_exporter": "python",
   "pygments_lexer": "ipython3",
   "version": "3.10.12"
  }
 },
 "nbformat": 4,
 "nbformat_minor": 5
}
